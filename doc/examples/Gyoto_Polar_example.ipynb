{
 "cells": [
  {
   "cell_type": "code",
   "execution_count": 1,
   "id": "2d5857db",
   "metadata": {},
   "outputs": [
    {
     "name": "stderr",
     "output_type": "stream",
     "text": [
      "WARNING: unable to load optional plug-in libgyoto-lorene.so\n"
     ]
    }
   ],
   "source": [
    "import gyoto\n",
    "import gyoto.std\n",
    "import gyoto.core\n",
    "import numpy as np\n",
    "import math\n",
    "import matplotlib.pyplot as plt\n",
    "import matplotlib.cm as cm\n",
    "import matplotlib.colors as colors"
   ]
  },
  {
   "cell_type": "code",
   "execution_count": 2,
   "id": "53e8e205",
   "metadata": {},
   "outputs": [],
   "source": [
    "kpc_meter=3.08568025e19\n",
    "c_SI=299792458.\n",
    "me_SI=9.10938188e-28\n",
    "kb_SI=1.3806504e-23"
   ]
  },
  {
   "cell_type": "code",
   "execution_count": 3,
   "id": "c107df45",
   "metadata": {},
   "outputs": [],
   "source": [
    "metric = gyoto.std.KerrBL()\n",
    "metric.spin(0.)\n",
    "metric.mass(4.3e6,\"sunmass\")"
   ]
  },
  {
   "cell_type": "code",
   "execution_count": 4,
   "id": "c41fb8b3",
   "metadata": {},
   "outputs": [],
   "source": [
    "fov = 200 #muas\n",
    "npix = 128\n",
    "incli = 20 #deg\n",
    "\n",
    "screen = gyoto.Screen()\n",
    "screen.metric(metric)\n",
    "screen.distance(8.3,\"kpc\")\n",
    "screen.time(8.3,\"kpc\")\n",
    "screen.fieldOfView(fov,\"µas\")\n",
    "screen.inclination(180.-incli,\"°\")\n",
    "screen.PALN(180,\"°\")\n",
    "screen.resolution(npix)\n",
    "spectro=gyoto.core.Spectrometer('freqlog')\n",
    "spectro.set(\"NSamples\", 1)\n",
    "spectro.set(\"Band\", (math.log10(230e9), math.log10(230e9)), \"Hz\")\n",
    "screen.spectrometer(spectro)"
   ]
  },
  {
   "cell_type": "code",
   "execution_count": 5,
   "id": "84bb56ff",
   "metadata": {},
   "outputs": [],
   "source": [
    "disk = gyoto.std.ThickDisk()\n",
    "disk.thickDiskInnerRadius(6.)\n",
    "disk.thickDiskZGaussianSigma(0.3)\n",
    "disk.numberDensityAtInnerRadius(6e6,\"cm-3\")\n",
    "disk.temperatureAtInnerRadius(200.*me_SI*c_SI*c_SI/kb_SI)\n",
    "disk.temperatureSlope(-0.84)\n",
    "disk.densitySlope(-1.5)\n",
    "disk.metric(metric)\n",
    "disk.opticallyThin(True)\n",
    "disk.magneticConfiguration('Vertical')\n",
    "disk.rMax(100)\n",
    "disk.deltaInObj(0.05)"
   ]
  },
  {
   "cell_type": "code",
   "execution_count": 6,
   "id": "bd187fb8",
   "metadata": {},
   "outputs": [],
   "source": [
    "scry = gyoto.Scenery()\n",
    "scry.metric(metric)\n",
    "scry.screen(screen)\n",
    "scry.astrobj(disk)\n",
    "scry.tMin(-1e10)\n",
    "scry.nThreads(4)\n",
    "scry.parallelTransport(True)\n",
    "scry.relTol(1.e-10)\n",
    "scry.absTol(1.e-10)\n",
    "\n",
    "scry.requestedQuantitiesString(\"Spectrum SpectrumStokesQ SpectrumStokesU SpectrumStokesV\")"
   ]
  },
  {
   "cell_type": "code",
   "execution_count": null,
   "id": "4f9af2e6",
   "metadata": {},
   "outputs": [],
   "source": [
    "image_cube=scry.rayTrace()\n",
    "\n",
    "SI2Jy = (fov*1e-6/3600*np.pi/180./npix)**2*1e26\n",
    "\n",
    "imgI=image_cube[\"Spectrum\"][0,:,:]*SI2Jy\n",
    "\n",
    "imgQ=image_cube[\"SpectrumStokesQ\"][0,:,:]*SI2Jy\n",
    "\n",
    "imgU=image_cube[\"SpectrumStokesU\"][0,:,:]*SI2Jy\n",
    "\n",
    "imgV=image_cube[\"SpectrumStokesV\"][0,:,:]*SI2Jy"
   ]
  },
  {
   "cell_type": "markdown",
   "id": "66f7a3ba",
   "metadata": {},
   "source": []
  },
  {
   "cell_type": "code",
   "execution_count": null,
   "id": "b61edd0d",
   "metadata": {},
   "outputs": [],
   "source": [
    "vmin = min(imgQ.min(), imgU.min())\n",
    "vmax = max(imgQ.max(), imgU.max())\n",
    "scale_LP = max(abs(vmin), abs(vmax))\n",
    "normLP = colors.Normalize(vmin=-scale_LP, vmax=scale_LP)\n",
    "\n",
    "scale_CP = max(abs(imgV.min()), abs(imgV.max()))\n",
    "normCP = colors.Normalize(vmin=-scale_CP, vmax=scale_CP)"
   ]
  },
  {
   "cell_type": "code",
   "execution_count": null,
   "id": "92a78594",
   "metadata": {},
   "outputs": [],
   "source": [
    "fig, axs = plt.subplots(1, 4)\n",
    "fig.set_size_inches(16, 9)\n",
    "fig.tight_layout()\n",
    "\n",
    "\n",
    "axs[0].tick_params(axis='both', which='major', labelsize=16)\n",
    "for ii in range(1,4):\n",
    "    axs[ii].set_xticks([])\n",
    "    axs[ii].set_yticks([])\n",
    "\n",
    "cmap1 = 'afmhot'\n",
    "cmap2 = \"seismic\"\n",
    "\n",
    "img_Gyoto_I = axs[0].imshow(imgI, interpolation='nearest', cmap=cmap1, extent=(-fov/2.,fov/2.,-fov/2.,fov/2.))\n",
    "axs[0].set_title(\"Stokes I\", fontsize=22)\n",
    "img_Gyoto_Q = axs[1].imshow(imgQ, interpolation='nearest', cmap=cmap2, norm=normLP, extent=(-fov/2.,fov/2.,-fov/2.,fov/2.))\n",
    "axs[1].set_title(\"Stokes Q\", fontsize=22)\n",
    "img_Gyoto_U = axs[2].imshow(imgU, interpolation='nearest', cmap=cmap2, norm=normLP, extent=(-fov/2.,fov/2.,-fov/2.,fov/2.))\n",
    "axs[2].set_title(\"Stokes U\", fontsize=22)\n",
    "img_Gyoto_V = axs[3].imshow(imgV, interpolation='nearest', cmap=cmap2, norm=normCP, extent=(-fov/2.,fov/2.,-fov/2.,fov/2.))\n",
    "axs[3].set_title(\"Stokes U\", fontsize=22)\n",
    "\n",
    "cb_imgI = fig.colorbar(img_Gyoto_I, ax=axs[0], location='bottom', pad=0.05)\n",
    "cb_imgI.set_label('Jy', fontsize=18)\n",
    "cb_imgI.ax.tick_params(axis='both', which='major', labelsize=16)\n",
    "cb_imgLP = fig.colorbar(img_Gyoto_Q, ax=axs[1:3], location='bottom', pad=0.05)\n",
    "cb_imgLP.set_label('Jy', fontsize=18)\n",
    "cb_imgLP.ax.tick_params(axis='both', which='major', labelsize=16)\n",
    "cb_imgCP = fig.colorbar(img_Gyoto_V, ax=axs[3], location='bottom', pad=0.05)\n",
    "cb_imgCP.set_label('Jy', fontsize=18)\n",
    "cb_imgCP.ax.tick_params(axis='both', which='major', labelsize=16)"
   ]
  },
  {
   "cell_type": "markdown",
   "id": "b543b30f",
   "metadata": {},
   "source": []
  },
  {
   "cell_type": "code",
   "execution_count": null,
   "id": "f57e6880",
   "metadata": {},
   "outputs": [],
   "source": [
    "plt.figure(2, figsize=(16.,16.))\n",
    "plt.clf()\n",
    "plt.ion()\n",
    "plt.gca().invert_xaxis()\n",
    "plt.xlabel(\"X [$\\mu$as]\", fontsize=20.)\n",
    "plt.ylabel(\"Y [$\\mu$as]\", fontsize=20.)\n",
    "plt.yticks(fontsize=18)\n",
    "plt.xticks(fontsize=18)\n",
    "\n",
    "imgEVPA=np.arctan2(imgU, imgQ)/2.\n",
    "imgLP=np.sqrt(imgQ**2 +imgU**2)/imgI\n",
    "imgCP = imgV/imgI\n",
    "\n",
    "muasperpxl=fov/npix\n",
    "ntick=31 # nb of ticks to plot along horiz dir\n",
    "steps=int(npix/ntick)\n",
    "multmarker=2. # size of polar arrow in plot\n",
    "for itick in range(ntick):\n",
    "    for jtick in range(ntick):\n",
    "        imid=int(steps*itick+steps/2.)\n",
    "        jmid=int(steps*jtick+steps/2.)\n",
    "        Iloc=imgI[jmid,imid]\n",
    "        EVPAloc=imgEVPA[jmid,imid]\n",
    "        LPloc=imgLP[jmid,imid]\n",
    "        xx=(imid-int(npix/2.))*muasperpxl\n",
    "        yy=(jmid-int(npix/2.))*muasperpxl\n",
    "        if imgI[jmid,imid]>0.08*imgI.max():\n",
    "            plt.plot([xx+multmarker*LPloc*math.sin(EVPAloc),xx-multmarker*LPloc*math.sin(EVPAloc)],\n",
    "                     [yy-multmarker*LPloc*math.cos(EVPAloc),yy+multmarker*LPloc*math.cos(EVPAloc)],\n",
    "                     color='white', linewidth=1.5)\n",
    "\n",
    "plt.imshow(imgI, interpolation='nearest', origin='lower', cmap=cmap1, extent=(-fov/2.,fov/2.,-fov/2.,fov/2.))"
   ]
  },
  {
   "cell_type": "markdown",
   "id": "14ffa964",
   "metadata": {},
   "source": []
  }
 ],
 "metadata": {
  "kernelspec": {
   "display_name": "Python 3 (ipykernel)",
   "language": "python",
   "name": "python3"
  },
  "language_info": {
   "codemirror_mode": {
    "name": "ipython",
    "version": 3
   },
   "file_extension": ".py",
   "mimetype": "text/x-python",
   "name": "python",
   "nbconvert_exporter": "python",
   "pygments_lexer": "ipython3",
   "version": "3.10.12"
  }
 },
 "nbformat": 4,
 "nbformat_minor": 5
}
